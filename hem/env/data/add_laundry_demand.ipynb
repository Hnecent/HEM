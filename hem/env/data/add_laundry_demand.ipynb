{
 "cells": [
  {
   "cell_type": "code",
   "id": "initial_id",
   "metadata": {
    "collapsed": true,
    "ExecuteTime": {
     "end_time": "2025-04-09T09:33:30.475056Z",
     "start_time": "2025-04-09T09:33:30.472896Z"
    }
   },
   "source": [
    "import pandas as pd\n",
    "import numpy as np\n",
    "\n",
    "np.random.seed(42)"
   ],
   "outputs": [],
   "execution_count": 50
  },
  {
   "metadata": {
    "ExecuteTime": {
     "end_time": "2025-04-09T09:33:30.538259Z",
     "start_time": "2025-04-09T09:33:30.481131Z"
    }
   },
   "cell_type": "code",
   "source": [
    "origin_data = pd.read_csv('california_3938_2016_minute_data_modify_carbon.csv')\n",
    "origin_data.head()"
   ],
   "id": "40bd585da3fe987f",
   "outputs": [
    {
     "data": {
      "text/plain": [
       "   Year  Month  Day  Hour  Minute  Downwelling Global Solar [W/m2]  \\\n",
       "0  2016      6    1     0       0                             -1.2   \n",
       "1  2016      6    1     0       1                             -1.1   \n",
       "2  2016      6    1     0       2                             -1.1   \n",
       "3  2016      6    1     0       3                             -1.1   \n",
       "4  2016      6    1     0       4                             -1.0   \n",
       "\n",
       "   Outdoor Drybulb Temperature [C]  Wind Speed [m/s]  \\\n",
       "0                             12.0               2.2   \n",
       "1                             12.0               2.0   \n",
       "2                             11.9               1.8   \n",
       "3                             11.9               1.7   \n",
       "4                             11.9               1.6   \n",
       "\n",
       "   Wind Direction [deg from N]  Day Type  Equipment Electric Power [kW]  \\\n",
       "0                        225.0         3                          0.607   \n",
       "1                        225.0         3                          0.241   \n",
       "2                        226.0         3                          0.710   \n",
       "3                        222.0         3                          0.183   \n",
       "4                        223.0         3                          0.726   \n",
       "\n",
       "   Electricity Pricing [$/kWh]  Occupancy  Carbon Intensity [kg/kWh]  \n",
       "0                      0.03025        1.0                   0.088517  \n",
       "1                      0.03025        1.0                   0.088517  \n",
       "2                      0.03025        1.0                   0.088517  \n",
       "3                      0.03025        1.0                   0.088517  \n",
       "4                      0.03025        1.0                   0.088517  "
      ],
      "text/html": [
       "<div>\n",
       "<style scoped>\n",
       "    .dataframe tbody tr th:only-of-type {\n",
       "        vertical-align: middle;\n",
       "    }\n",
       "\n",
       "    .dataframe tbody tr th {\n",
       "        vertical-align: top;\n",
       "    }\n",
       "\n",
       "    .dataframe thead th {\n",
       "        text-align: right;\n",
       "    }\n",
       "</style>\n",
       "<table border=\"1\" class=\"dataframe\">\n",
       "  <thead>\n",
       "    <tr style=\"text-align: right;\">\n",
       "      <th></th>\n",
       "      <th>Year</th>\n",
       "      <th>Month</th>\n",
       "      <th>Day</th>\n",
       "      <th>Hour</th>\n",
       "      <th>Minute</th>\n",
       "      <th>Downwelling Global Solar [W/m2]</th>\n",
       "      <th>Outdoor Drybulb Temperature [C]</th>\n",
       "      <th>Wind Speed [m/s]</th>\n",
       "      <th>Wind Direction [deg from N]</th>\n",
       "      <th>Day Type</th>\n",
       "      <th>Equipment Electric Power [kW]</th>\n",
       "      <th>Electricity Pricing [$/kWh]</th>\n",
       "      <th>Occupancy</th>\n",
       "      <th>Carbon Intensity [kg/kWh]</th>\n",
       "    </tr>\n",
       "  </thead>\n",
       "  <tbody>\n",
       "    <tr>\n",
       "      <th>0</th>\n",
       "      <td>2016</td>\n",
       "      <td>6</td>\n",
       "      <td>1</td>\n",
       "      <td>0</td>\n",
       "      <td>0</td>\n",
       "      <td>-1.2</td>\n",
       "      <td>12.0</td>\n",
       "      <td>2.2</td>\n",
       "      <td>225.0</td>\n",
       "      <td>3</td>\n",
       "      <td>0.607</td>\n",
       "      <td>0.03025</td>\n",
       "      <td>1.0</td>\n",
       "      <td>0.088517</td>\n",
       "    </tr>\n",
       "    <tr>\n",
       "      <th>1</th>\n",
       "      <td>2016</td>\n",
       "      <td>6</td>\n",
       "      <td>1</td>\n",
       "      <td>0</td>\n",
       "      <td>1</td>\n",
       "      <td>-1.1</td>\n",
       "      <td>12.0</td>\n",
       "      <td>2.0</td>\n",
       "      <td>225.0</td>\n",
       "      <td>3</td>\n",
       "      <td>0.241</td>\n",
       "      <td>0.03025</td>\n",
       "      <td>1.0</td>\n",
       "      <td>0.088517</td>\n",
       "    </tr>\n",
       "    <tr>\n",
       "      <th>2</th>\n",
       "      <td>2016</td>\n",
       "      <td>6</td>\n",
       "      <td>1</td>\n",
       "      <td>0</td>\n",
       "      <td>2</td>\n",
       "      <td>-1.1</td>\n",
       "      <td>11.9</td>\n",
       "      <td>1.8</td>\n",
       "      <td>226.0</td>\n",
       "      <td>3</td>\n",
       "      <td>0.710</td>\n",
       "      <td>0.03025</td>\n",
       "      <td>1.0</td>\n",
       "      <td>0.088517</td>\n",
       "    </tr>\n",
       "    <tr>\n",
       "      <th>3</th>\n",
       "      <td>2016</td>\n",
       "      <td>6</td>\n",
       "      <td>1</td>\n",
       "      <td>0</td>\n",
       "      <td>3</td>\n",
       "      <td>-1.1</td>\n",
       "      <td>11.9</td>\n",
       "      <td>1.7</td>\n",
       "      <td>222.0</td>\n",
       "      <td>3</td>\n",
       "      <td>0.183</td>\n",
       "      <td>0.03025</td>\n",
       "      <td>1.0</td>\n",
       "      <td>0.088517</td>\n",
       "    </tr>\n",
       "    <tr>\n",
       "      <th>4</th>\n",
       "      <td>2016</td>\n",
       "      <td>6</td>\n",
       "      <td>1</td>\n",
       "      <td>0</td>\n",
       "      <td>4</td>\n",
       "      <td>-1.0</td>\n",
       "      <td>11.9</td>\n",
       "      <td>1.6</td>\n",
       "      <td>223.0</td>\n",
       "      <td>3</td>\n",
       "      <td>0.726</td>\n",
       "      <td>0.03025</td>\n",
       "      <td>1.0</td>\n",
       "      <td>0.088517</td>\n",
       "    </tr>\n",
       "  </tbody>\n",
       "</table>\n",
       "</div>"
      ]
     },
     "execution_count": 51,
     "metadata": {},
     "output_type": "execute_result"
    }
   ],
   "execution_count": 51
  },
  {
   "metadata": {
    "ExecuteTime": {
     "end_time": "2025-04-09T09:33:30.560690Z",
     "start_time": "2025-04-09T09:33:30.558822Z"
    }
   },
   "cell_type": "code",
   "source": [
    "# 你可能需要用到的数据\n",
    "\n",
    "day_of_week = origin_data['Day Type']\n",
    "Hour = origin_data['Hour']\n",
    "Minute = origin_data['Minute']\n",
    "Occupancy = origin_data['Occupancy']\n",
    "Month = origin_data['Month']\n",
    "day_of_month = origin_data['Day']"
   ],
   "id": "afa6d1ffdd77f13b",
   "outputs": [],
   "execution_count": 52
  },
  {
   "metadata": {
    "ExecuteTime": {
     "end_time": "2025-04-09T09:33:30.580712Z",
     "start_time": "2025-04-09T09:33:30.577886Z"
    }
   },
   "cell_type": "code",
   "source": "print(day_of_week, Hour, Minute, Occupancy, Month, day_of_month)",
   "id": "efc2836d66c28615",
   "outputs": [
    {
     "name": "stdout",
     "output_type": "stream",
     "text": [
      "0         3\n",
      "1         3\n",
      "2         3\n",
      "3         3\n",
      "4         3\n",
      "         ..\n",
      "175675    5\n",
      "175676    5\n",
      "175677    5\n",
      "175678    5\n",
      "175679    5\n",
      "Name: Day Type, Length: 175680, dtype: int64 0          0\n",
      "1          0\n",
      "2          0\n",
      "3          0\n",
      "4          0\n",
      "          ..\n",
      "175675    23\n",
      "175676    23\n",
      "175677    23\n",
      "175678    23\n",
      "175679    23\n",
      "Name: Hour, Length: 175680, dtype: int64 0          0\n",
      "1          1\n",
      "2          2\n",
      "3          3\n",
      "4          4\n",
      "          ..\n",
      "175675    55\n",
      "175676    56\n",
      "175677    57\n",
      "175678    58\n",
      "175679    59\n",
      "Name: Minute, Length: 175680, dtype: int64 0         1.0\n",
      "1         1.0\n",
      "2         1.0\n",
      "3         1.0\n",
      "4         1.0\n",
      "         ... \n",
      "175675    1.0\n",
      "175676    1.0\n",
      "175677    1.0\n",
      "175678    1.0\n",
      "175679    1.0\n",
      "Name: Occupancy, Length: 175680, dtype: float64 0         6\n",
      "1         6\n",
      "2         6\n",
      "3         6\n",
      "4         6\n",
      "         ..\n",
      "175675    9\n",
      "175676    9\n",
      "175677    9\n",
      "175678    9\n",
      "175679    9\n",
      "Name: Month, Length: 175680, dtype: int64 0          1\n",
      "1          1\n",
      "2          1\n",
      "3          1\n",
      "4          1\n",
      "          ..\n",
      "175675    30\n",
      "175676    30\n",
      "175677    30\n",
      "175678    30\n",
      "175679    30\n",
      "Name: Day, Length: 175680, dtype: int64\n"
     ]
    }
   ],
   "execution_count": 53
  },
  {
   "metadata": {
    "ExecuteTime": {
     "end_time": "2025-04-09T09:33:30.593814Z",
     "start_time": "2025-04-09T09:33:30.592014Z"
    }
   },
   "cell_type": "code",
   "source": [
    "\"\"\"\n",
    "添加洗衣需求：\n",
    "\n",
    "1. 每一天存在洗衣服需求的概率不一样，根据星期几来决定概率。\n",
    "2. 如果当天存在洗衣服需求，则根据时间（比如凌晨和上午很少洗衣服）和房屋占用状态来决定具体洗衣需求时间。\n",
    "3. 决定了具体洗衣需求时间后，通过正态分布决定可等待时间。\n",
    "4. 若当前已有洗衣需求，则不会有第二个洗衣需求。\n",
    "5. 根据以上规则，在原始数据集上添加两行，一是当前是否有洗衣需求（没有为0，有的话为1），二是允许等待时间。\n",
    "\"\"\""
   ],
   "id": "5c9b3bea7206765c",
   "outputs": [
    {
     "data": {
      "text/plain": [
       "'\\n添加洗衣需求：\\n\\n1. 每一天存在洗衣服需求的概率不一样，根据星期几来决定概率。\\n2. 如果当天存在洗衣服需求，则根据时间（比如凌晨和上午很少洗衣服）和房屋占用状态来决定具体洗衣需求时间。\\n3. 决定了具体洗衣需求时间后，通过正态分布决定可等待时间。\\n4. 若当前已有洗衣需求，则不会有第二个洗衣需求。\\n5. 根据以上规则，在原始数据集上添加两行，一是当前是否有洗衣需求（没有为0，有的话为1），二是允许等待时间。\\n'"
      ]
     },
     "execution_count": 54,
     "metadata": {},
     "output_type": "execute_result"
    }
   ],
   "execution_count": 54
  },
  {
   "metadata": {
    "ExecuteTime": {
     "end_time": "2025-04-09T09:33:30.812112Z",
     "start_time": "2025-04-09T09:33:30.607745Z"
    }
   },
   "cell_type": "code",
   "source": [
    "# 初始化新列\n",
    "origin_data['Laundry Demand'] = 0\n",
    "origin_data['Laundry Allowed Waiting Time'] = 0.0\n",
    "\n",
    "# 定义星期几到洗衣需求的概率映射（假设Day Type 1为周一，7为周日）\n",
    "# prob_per_dow = {\n",
    "#     1: 0.35,  # Monday\n",
    "#     2: 0.3,  # Tuesday\n",
    "#     3: 0.3,  # Wednesday\n",
    "#     4: 0.4,  # Thursday\n",
    "#     5: 0.6,  # Friday\n",
    "#     6: 0.8,  # Saturday\n",
    "#     7: 0.7  # Sunday\n",
    "# }\n",
    "\n",
    "prob_per_dow = {\n",
    "    1: 1,  # Monday\n",
    "    2: 1,  # Tuesday\n",
    "    3: 1,  # Wednesday\n",
    "    4: 1,  # Thursday\n",
    "    5: 1,  # Friday\n",
    "    6: 1,  # Saturday\n",
    "    7: 1  # Sunday\n",
    "}\n",
    "\n",
    "# 每个自然日的分钟数（1440行）\n",
    "rows_per_day = 1440\n",
    "total_days = len(origin_data) // rows_per_day\n",
    "\n",
    "for day_num in range(total_days):\n",
    "    start_idx = day_num * rows_per_day\n",
    "    end_idx = start_idx + rows_per_day\n",
    "    day_slice = origin_data.iloc[start_idx:end_idx]\n",
    "\n",
    "    # 获取当前天的星期几类型\n",
    "    current_dow = day_slice.iloc[0]['Day Type']\n",
    "    prob = prob_per_dow.get(current_dow, 0.0)\n",
    "\n",
    "    # 随机决定是否生成需求\n",
    "    if np.random.random() < prob:\n",
    "        # 筛选条件：时间在7-23点且房屋被占用\n",
    "        # valid_times = day_slice[(day_slice['Occupancy'] == 1) &\n",
    "        #                         (day_slice['Hour'] >= 7) &\n",
    "        #                         (day_slice['Hour'] <= 20)]\n",
    "        valid_times = day_slice[(day_slice['Hour'] >= 4) & (day_slice['Hour'] <= 4) | (day_slice['Hour'] >= 18) & (day_slice['Hour'] <= 18)]\n",
    "        if not valid_times.empty:\n",
    "            # 随机选择一个时间点\n",
    "            selected = valid_times.sample(n=1)\n",
    "            idx = selected.index[0]\n",
    "\n",
    "            # 生成允许等待时间（正态分布，均值30，标准差10，非负取整）\n",
    "            wait_time = np.random.normal(210, 15)\n",
    "            wait_time = max(0, int(round(wait_time)))\n",
    "\n",
    "            # 计算当天结束的索引（含）\n",
    "            end_of_day = start_idx + rows_per_day - 1\n",
    "\n",
    "            # 确定等待结束的索引（不超过当天）\n",
    "            end_wait = min(idx + wait_time, end_of_day)\n",
    "\n",
    "            # 遍历从触发时间到等待结束的时间点\n",
    "            for i in range(idx, end_wait + 1):\n",
    "                elapsed = i - idx  # 已过去的时间\n",
    "                remaining_wait = max(wait_time - elapsed, 0)  # 剩余等待时间\n",
    "\n",
    "                # if i == idx:\n",
    "                origin_data.at[i, 'Laundry Demand'] = 1\n",
    "                origin_data.at[i, 'Laundry Allowed Waiting Time'] = remaining_wait"
   ],
   "id": "71a482dc470c7aa8",
   "outputs": [],
   "execution_count": 55
  },
  {
   "metadata": {
    "ExecuteTime": {
     "end_time": "2025-04-09T09:33:30.824307Z",
     "start_time": "2025-04-09T09:33:30.820166Z"
    }
   },
   "cell_type": "code",
   "source": "origin_data.head()",
   "id": "261fa1565f684c16",
   "outputs": [
    {
     "data": {
      "text/plain": [
       "   Year  Month  Day  Hour  Minute  Downwelling Global Solar [W/m2]  \\\n",
       "0  2016      6    1     0       0                             -1.2   \n",
       "1  2016      6    1     0       1                             -1.1   \n",
       "2  2016      6    1     0       2                             -1.1   \n",
       "3  2016      6    1     0       3                             -1.1   \n",
       "4  2016      6    1     0       4                             -1.0   \n",
       "\n",
       "   Outdoor Drybulb Temperature [C]  Wind Speed [m/s]  \\\n",
       "0                             12.0               2.2   \n",
       "1                             12.0               2.0   \n",
       "2                             11.9               1.8   \n",
       "3                             11.9               1.7   \n",
       "4                             11.9               1.6   \n",
       "\n",
       "   Wind Direction [deg from N]  Day Type  Equipment Electric Power [kW]  \\\n",
       "0                        225.0         3                          0.607   \n",
       "1                        225.0         3                          0.241   \n",
       "2                        226.0         3                          0.710   \n",
       "3                        222.0         3                          0.183   \n",
       "4                        223.0         3                          0.726   \n",
       "\n",
       "   Electricity Pricing [$/kWh]  Occupancy  Carbon Intensity [kg/kWh]  \\\n",
       "0                      0.03025        1.0                   0.088517   \n",
       "1                      0.03025        1.0                   0.088517   \n",
       "2                      0.03025        1.0                   0.088517   \n",
       "3                      0.03025        1.0                   0.088517   \n",
       "4                      0.03025        1.0                   0.088517   \n",
       "\n",
       "   Laundry Demand  Laundry Allowed Waiting Time  \n",
       "0               0                           0.0  \n",
       "1               0                           0.0  \n",
       "2               0                           0.0  \n",
       "3               0                           0.0  \n",
       "4               0                           0.0  "
      ],
      "text/html": [
       "<div>\n",
       "<style scoped>\n",
       "    .dataframe tbody tr th:only-of-type {\n",
       "        vertical-align: middle;\n",
       "    }\n",
       "\n",
       "    .dataframe tbody tr th {\n",
       "        vertical-align: top;\n",
       "    }\n",
       "\n",
       "    .dataframe thead th {\n",
       "        text-align: right;\n",
       "    }\n",
       "</style>\n",
       "<table border=\"1\" class=\"dataframe\">\n",
       "  <thead>\n",
       "    <tr style=\"text-align: right;\">\n",
       "      <th></th>\n",
       "      <th>Year</th>\n",
       "      <th>Month</th>\n",
       "      <th>Day</th>\n",
       "      <th>Hour</th>\n",
       "      <th>Minute</th>\n",
       "      <th>Downwelling Global Solar [W/m2]</th>\n",
       "      <th>Outdoor Drybulb Temperature [C]</th>\n",
       "      <th>Wind Speed [m/s]</th>\n",
       "      <th>Wind Direction [deg from N]</th>\n",
       "      <th>Day Type</th>\n",
       "      <th>Equipment Electric Power [kW]</th>\n",
       "      <th>Electricity Pricing [$/kWh]</th>\n",
       "      <th>Occupancy</th>\n",
       "      <th>Carbon Intensity [kg/kWh]</th>\n",
       "      <th>Laundry Demand</th>\n",
       "      <th>Laundry Allowed Waiting Time</th>\n",
       "    </tr>\n",
       "  </thead>\n",
       "  <tbody>\n",
       "    <tr>\n",
       "      <th>0</th>\n",
       "      <td>2016</td>\n",
       "      <td>6</td>\n",
       "      <td>1</td>\n",
       "      <td>0</td>\n",
       "      <td>0</td>\n",
       "      <td>-1.2</td>\n",
       "      <td>12.0</td>\n",
       "      <td>2.2</td>\n",
       "      <td>225.0</td>\n",
       "      <td>3</td>\n",
       "      <td>0.607</td>\n",
       "      <td>0.03025</td>\n",
       "      <td>1.0</td>\n",
       "      <td>0.088517</td>\n",
       "      <td>0</td>\n",
       "      <td>0.0</td>\n",
       "    </tr>\n",
       "    <tr>\n",
       "      <th>1</th>\n",
       "      <td>2016</td>\n",
       "      <td>6</td>\n",
       "      <td>1</td>\n",
       "      <td>0</td>\n",
       "      <td>1</td>\n",
       "      <td>-1.1</td>\n",
       "      <td>12.0</td>\n",
       "      <td>2.0</td>\n",
       "      <td>225.0</td>\n",
       "      <td>3</td>\n",
       "      <td>0.241</td>\n",
       "      <td>0.03025</td>\n",
       "      <td>1.0</td>\n",
       "      <td>0.088517</td>\n",
       "      <td>0</td>\n",
       "      <td>0.0</td>\n",
       "    </tr>\n",
       "    <tr>\n",
       "      <th>2</th>\n",
       "      <td>2016</td>\n",
       "      <td>6</td>\n",
       "      <td>1</td>\n",
       "      <td>0</td>\n",
       "      <td>2</td>\n",
       "      <td>-1.1</td>\n",
       "      <td>11.9</td>\n",
       "      <td>1.8</td>\n",
       "      <td>226.0</td>\n",
       "      <td>3</td>\n",
       "      <td>0.710</td>\n",
       "      <td>0.03025</td>\n",
       "      <td>1.0</td>\n",
       "      <td>0.088517</td>\n",
       "      <td>0</td>\n",
       "      <td>0.0</td>\n",
       "    </tr>\n",
       "    <tr>\n",
       "      <th>3</th>\n",
       "      <td>2016</td>\n",
       "      <td>6</td>\n",
       "      <td>1</td>\n",
       "      <td>0</td>\n",
       "      <td>3</td>\n",
       "      <td>-1.1</td>\n",
       "      <td>11.9</td>\n",
       "      <td>1.7</td>\n",
       "      <td>222.0</td>\n",
       "      <td>3</td>\n",
       "      <td>0.183</td>\n",
       "      <td>0.03025</td>\n",
       "      <td>1.0</td>\n",
       "      <td>0.088517</td>\n",
       "      <td>0</td>\n",
       "      <td>0.0</td>\n",
       "    </tr>\n",
       "    <tr>\n",
       "      <th>4</th>\n",
       "      <td>2016</td>\n",
       "      <td>6</td>\n",
       "      <td>1</td>\n",
       "      <td>0</td>\n",
       "      <td>4</td>\n",
       "      <td>-1.0</td>\n",
       "      <td>11.9</td>\n",
       "      <td>1.6</td>\n",
       "      <td>223.0</td>\n",
       "      <td>3</td>\n",
       "      <td>0.726</td>\n",
       "      <td>0.03025</td>\n",
       "      <td>1.0</td>\n",
       "      <td>0.088517</td>\n",
       "      <td>0</td>\n",
       "      <td>0.0</td>\n",
       "    </tr>\n",
       "  </tbody>\n",
       "</table>\n",
       "</div>"
      ]
     },
     "execution_count": 56,
     "metadata": {},
     "output_type": "execute_result"
    }
   ],
   "execution_count": 56
  },
  {
   "metadata": {
    "ExecuteTime": {
     "end_time": "2025-04-09T09:33:30.875706Z",
     "start_time": "2025-04-09T09:33:30.843812Z"
    }
   },
   "cell_type": "code",
   "source": [
    "import matplotlib.pyplot as plt\n",
    "\n",
    "plt.plot(origin_data['Laundry Allowed Waiting Time'][350:550])\n",
    "plt.plot(origin_data['Laundry Demand'][350:550])"
   ],
   "id": "331b63e381d3521d",
   "outputs": [
    {
     "data": {
      "text/plain": [
       "[<matplotlib.lines.Line2D at 0x3316933d0>]"
      ]
     },
     "execution_count": 57,
     "metadata": {},
     "output_type": "execute_result"
    },
    {
     "data": {
      "text/plain": [
       "<Figure size 640x480 with 1 Axes>"
      ],
      "image/png": "[encoded data removed]"
     },
     "metadata": {},
     "output_type": "display_data"
    }
   ],
   "execution_count": 57
  },
  {
   "metadata": {
    "ExecuteTime": {
     "end_time": "2025-04-09T09:33:30.967851Z",
     "start_time": "2025-04-09T09:33:30.923366Z"
    }
   },
   "cell_type": "code",
   "source": [
    "# 把Laundry Allowed Waiting Time和Laundry Demand画在不同的y轴上\n",
    "\n",
    "fig, axes = plt.subplots(1, 1)\n",
    "axes.plot(origin_data['Laundry Allowed Waiting Time'][5 * rows_per_day:7 * rows_per_day])\n",
    "ax_c = axes.twinx()\n",
    "ax_c.plot(origin_data['Laundry Demand'][5 * rows_per_day:7 * rows_per_day], color='red')"
   ],
   "id": "e608da34bcc69685",
   "outputs": [
    {
     "data": {
      "text/plain": [
       "[<matplotlib.lines.Line2D at 0x177cf4850>]"
      ]
     },
     "execution_count": 58,
     "metadata": {},
     "output_type": "execute_result"
    },
    {
     "data": {
      "text/plain": [
       "<Figure size 640x480 with 2 Axes>"
      ],
      "image/png": "[encoded data removed]"
     },
     "metadata": {},
     "output_type": "display_data"
    }
   ],
   "execution_count": 58
  },
  {
   "metadata": {
    "ExecuteTime": {
     "end_time": "2025-04-09T09:33:31.407236Z",
     "start_time": "2025-04-09T09:33:31.014041Z"
    }
   },
   "cell_type": "code",
   "source": [
    "# 保存数据\n",
    "origin_data.to_csv('california_3938_2016_minute_data_modify_carbon_laundry.csv', index=False)"
   ],
   "id": "3294bf60ef1ac8be",
   "outputs": [],
   "execution_count": 59
  },
  {
   "metadata": {
    "ExecuteTime": {
     "end_time": "2025-04-09T09:33:31.416554Z",
     "start_time": "2025-04-09T09:33:31.415442Z"
    }
   },
   "cell_type": "code",
   "source": "\n",
   "id": "18362722939e9fd4",
   "outputs": [],
   "execution_count": 59
  }
 ],
 "metadata": {
  "kernelspec": {
   "display_name": "Python 3",
   "language": "python",
   "name": "python3"
  },
  "language_info": {
   "codemirror_mode": {
    "name": "ipython",
    "version": 2
   },
   "file_extension": ".py",
   "mimetype": "text/x-python",
   "name": "python",
   "nbconvert_exporter": "python",
   "pygments_lexer": "ipython2",
   "version": "2.7.6"
  }
 },
 "nbformat": 4,
 "nbformat_minor": 5
}
