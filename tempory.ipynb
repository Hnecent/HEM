{
 "cells": [
  {
   "metadata": {
    "ExecuteTime": {
     "end_time": "2025-04-02T16:43:30.368577Z",
     "start_time": "2025-04-02T16:43:30.365117Z"
    }
   },
   "cell_type": "code",
   "source": [
    "observation_variables = [\n",
    "            # AC\n",
    "            'AC_control', 'AC_state', 'AC_power',\n",
    "            # BESS\n",
    "            'BESS_control', 'BESS_state', 'BESS_power', 'BESS_soc', 'BESS_energy',\n",
    "            # washer\n",
    "            'washer_control', 'washer_state', 'washer_power', 'washer_continuous_working_time',\n",
    "            # PV\n",
    "            'PV_power',\n",
    "            # load balance\n",
    "            'home_electrical_power', 'home_electrical_consumption', 'home_electrical_cost',\n",
    "            # carbon\n",
    "            'carbon_intensity', 'carbon_production',  # carbon\n",
    "            # demand\n",
    "            'target_temperature', 'laundry_demand', 'laundry_allowed_waiting_time',\n",
    "            # heat dynamic model\n",
    "            'indoor_temperature',\n",
    "            # time\n",
    "            'hour_of_day', 'minute_of_hour', 'day_of_week',\n",
    "            # weather\n",
    "            'solar_radiation', 'outdoor_temperature',\n",
    "            # electrical & occupancy\n",
    "            'electrical_price',\n",
    "            'base_load',\n",
    "            'occupancy',\n",
    "            # auxiliary\n",
    "            'delayed_duration',\n",
    "        ]"
   ],
   "id": "ee4dda820b647c04",
   "outputs": [],
   "execution_count": 1
  },
  {
   "metadata": {
    "ExecuteTime": {
     "end_time": "2025-04-02T16:43:40.434928Z",
     "start_time": "2025-04-02T16:43:40.431634Z"
    }
   },
   "cell_type": "code",
   "source": "len(observation_variables)",
   "id": "245e6a7a411ff0d2",
   "outputs": [
    {
     "data": {
      "text/plain": [
       "31"
      ]
     },
     "execution_count": 2,
     "metadata": {},
     "output_type": "execute_result"
    }
   ],
   "execution_count": 2
  }
 ],
 "metadata": {
  "kernelspec": {
   "display_name": "Python 3",
   "language": "python",
   "name": "python3"
  },
  "language_info": {
   "codemirror_mode": {
    "name": "ipython",
    "version": 2
   },
   "file_extension": ".py",
   "mimetype": "text/x-python",
   "name": "python",
   "nbconvert_exporter": "python",
   "pygments_lexer": "ipython2",
   "version": "2.7.6"
  }
 },
 "nbformat": 4,
 "nbformat_minor": 5
}
