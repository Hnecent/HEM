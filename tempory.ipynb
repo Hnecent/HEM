{
 "cells": [
  {
   "metadata": {
    "ExecuteTime": {
     "end_time": "2025-03-24T13:58:50.547010Z",
     "start_time": "2025-03-24T13:58:50.545023Z"
    }
   },
   "cell_type": "code",
   "source": "import numpy as np",
   "id": "6c22d0175e9d8fbf",
   "outputs": [],
   "execution_count": 22
  },
  {
   "metadata": {
    "ExecuteTime": {
     "end_time": "2025-03-24T13:58:50.558319Z",
     "start_time": "2025-03-24T13:58:50.556389Z"
    }
   },
   "cell_type": "code",
   "source": "a = np.array([1, 2, 3, 4, 5, 6, 7, 8, 9, 10, 11, 12, 13, 14, 15, 16, 17])",
   "id": "ea1c6e8e3f9bf402",
   "outputs": [],
   "execution_count": 23
  },
  {
   "metadata": {
    "ExecuteTime": {
     "end_time": "2025-03-24T13:58:50.569889Z",
     "start_time": "2025-03-24T13:58:50.567852Z"
    }
   },
   "cell_type": "code",
   "source": "np.argmax(a)",
   "id": "5c0b4c5204d83fc9",
   "outputs": [
    {
     "data": {
      "text/plain": [
       "16"
      ]
     },
     "execution_count": 24,
     "metadata": {},
     "output_type": "execute_result"
    }
   ],
   "execution_count": 24
  },
  {
   "metadata": {
    "ExecuteTime": {
     "end_time": "2025-03-24T13:58:50.646915Z",
     "start_time": "2025-03-24T13:58:50.644651Z"
    }
   },
   "cell_type": "code",
   "source": "np.argmax(a[0:3])",
   "id": "a541b7b64fb30c6c",
   "outputs": [
    {
     "data": {
      "text/plain": [
       "2"
      ]
     },
     "execution_count": 25,
     "metadata": {},
     "output_type": "execute_result"
    }
   ],
   "execution_count": 25
  },
  {
   "metadata": {
    "ExecuteTime": {
     "end_time": "2025-03-24T13:58:50.719420Z",
     "start_time": "2025-03-24T13:58:50.717324Z"
    }
   },
   "cell_type": "code",
   "source": "a[3]",
   "id": "5d04a97e5d62990a",
   "outputs": [
    {
     "data": {
      "text/plain": [
       "4"
      ]
     },
     "execution_count": 26,
     "metadata": {},
     "output_type": "execute_result"
    }
   ],
   "execution_count": 26
  },
  {
   "metadata": {
    "ExecuteTime": {
     "end_time": "2025-03-24T13:58:50.766828Z",
     "start_time": "2025-03-24T13:58:50.764557Z"
    }
   },
   "cell_type": "code",
   "source": "a[0:2], a[2:5], a[5], a[6:8], a[8:11], a[11], a[12:14], a[14:16]",
   "id": "fbbd6ef949d64305",
   "outputs": [
    {
     "data": {
      "text/plain": [
       "(array([1, 2]),\n",
       " array([3, 4, 5]),\n",
       " 6,\n",
       " array([7, 8]),\n",
       " array([ 9, 10, 11]),\n",
       " 12,\n",
       " array([13, 14]),\n",
       " array([15, 16]))"
      ]
     },
     "execution_count": 27,
     "metadata": {},
     "output_type": "execute_result"
    }
   ],
   "execution_count": 27
  },
  {
   "metadata": {
    "ExecuteTime": {
     "end_time": "2025-03-24T13:58:50.775192Z",
     "start_time": "2025-03-24T13:58:50.774056Z"
    }
   },
   "cell_type": "code",
   "source": "",
   "id": "b9888e3011eb899f",
   "outputs": [],
   "execution_count": null
  }
 ],
 "metadata": {
  "kernelspec": {
   "display_name": "Python 3",
   "language": "python",
   "name": "python3"
  },
  "language_info": {
   "codemirror_mode": {
    "name": "ipython",
    "version": 2
   },
   "file_extension": ".py",
   "mimetype": "text/x-python",
   "name": "python",
   "nbconvert_exporter": "python",
   "pygments_lexer": "ipython2",
   "version": "2.7.6"
  }
 },
 "nbformat": 4,
 "nbformat_minor": 5
}
