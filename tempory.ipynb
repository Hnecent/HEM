{
 "cells": [
  {
   "metadata": {},
   "cell_type": "code",
   "outputs": [],
   "execution_count": null,
   "source": [
    "from tianshou.data import Collector\n",
    "from tianshou.env import DummyVectorEnv\n",
    "from tianshou.policy import RandomPolicy, MultiAgentPolicyManager\n",
    "\n",
    "# agents should be wrapped into one policy,\n",
    "# which is responsible for calling the acting agent correctly\n",
    "# here we use two random agents\n",
    "policy = MultiAgentPolicyManager(\n",
    "    [RandomPolicy(action_space=env.action_space), RandomPolicy(action_space=env.action_space)], env )\n",
    "\n",
    "# need to vectorize the environment for the collector\n",
    "env = DummyVectorEnv([lambda: env])\n",
    "\n",
    "collector = Collector(policy, env)\n",
    "result = collector.collect(n_episode=1, render=.1)\n"
   ],
   "id": "4efed61e4563f5ab"
  }
 ],
 "metadata": {
  "kernelspec": {
   "display_name": "Python 3",
   "language": "python",
   "name": "python3"
  },
  "language_info": {
   "codemirror_mode": {
    "name": "ipython",
    "version": 2
   },
   "file_extension": ".py",
   "mimetype": "text/x-python",
   "name": "python",
   "nbconvert_exporter": "python",
   "pygments_lexer": "ipython2",
   "version": "2.7.6"
  }
 },
 "nbformat": 4,
 "nbformat_minor": 5
}
